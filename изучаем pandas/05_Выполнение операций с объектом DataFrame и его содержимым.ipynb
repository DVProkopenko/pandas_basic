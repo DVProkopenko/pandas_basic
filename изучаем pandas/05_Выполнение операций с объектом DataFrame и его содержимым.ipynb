{
 "cells": [
  {
   "cell_type": "code",
   "execution_count": null,
   "metadata": {},
   "outputs": [],
   "source": [
    "# импортируем numpy и pandas\n",
    "import numpy as np\n",
    "import pandas as pd\n",
    "\n",
    "# импортируем datetime\n",
    "import datetime\n",
    "from datetime import datetime, date\n",
    "\n",
    "kino = pd.read_csv(\"Data/new_year_film.csv\", index_col='name')\n",
    "kino.head()"
   ]
  },
  {
   "cell_type": "markdown",
   "metadata": {},
   "source": [
    "### Переименование столбцов"
   ]
  },
  {
   "cell_type": "markdown",
   "metadata": {},
   "source": [
    "Полезно, когда хотим убрать пробелы из названий столбцов.\n",
    "\n",
    "Программный код возращает копию датафрейма с переименованным столбцом."
   ]
  },
  {
   "cell_type": "code",
   "execution_count": null,
   "metadata": {},
   "outputs": [],
   "source": [
    "kino_rename = kino.rename(columns={'time': 'time_film'})\n",
    "kino_rename[:2]"
   ]
  },
  {
   "cell_type": "code",
   "execution_count": null,
   "metadata": {},
   "outputs": [],
   "source": [
    "kino.rename(columns={'time': 'time_film'},                   \n",
    "           inplace=True)  # переименовывает столбец на месте\n",
    "kino.columns"
   ]
  },
  {
   "cell_type": "markdown",
   "metadata": {},
   "source": [
    "### Добавление новых столбцов с помощью оператора [] и метода .insert()"
   ]
  },
  {
   "cell_type": "code",
   "execution_count": null,
   "metadata": {},
   "outputs": [],
   "source": [
    "kino_copy = kino.copy()\n",
    "kino_copy.ranking = kino_copy.ranking.str.replace(',','.')\n",
    "kino_copy.ranking = kino_copy.ranking.astype(float)\n",
    "kino_copy.ranking"
   ]
  },
  {
   "cell_type": "code",
   "execution_count": null,
   "metadata": {},
   "outputs": [],
   "source": [
    "# добавляем столбец\n",
    "kino_copy['rounded_ranking'] = kino_copy.ranking.round()\n",
    "kino_copy[:2]"
   ]
  },
  {
   "cell_type": "code",
   "execution_count": null,
   "metadata": {},
   "outputs": [],
   "source": [
    "kino_copy = kino.copy()\n",
    "kino_copy.ranking = kino_copy.ranking.str.replace(',','.')\n",
    "kino_copy.ranking = kino_copy.ranking.astype(float)\n",
    "# вставляем столбец rounded_ranking в качестве второго столбца датафрейма\n",
    "kino_copy.insert(1, 'rounded_ranking', kino_copy.ranking.round())\n",
    "kino_copy[:2]"
   ]
  },
  {
   "cell_type": "markdown",
   "metadata": {},
   "source": [
    "### Добавление столбцов за счет расширения датафрейма"
   ]
  },
  {
   "cell_type": "code",
   "execution_count": null,
   "metadata": {},
   "outputs": [],
   "source": [
    "kino_copy = kino[:3].copy()"
   ]
  },
  {
   "cell_type": "code",
   "execution_count": null,
   "metadata": {},
   "outputs": [],
   "source": [
    "kino_copy.loc[:,'imdb'] = 0 # добавляем столбец с нулевыми значениями\n",
    "kino_copy"
   ]
  },
  {
   "cell_type": "code",
   "execution_count": null,
   "metadata": {},
   "outputs": [],
   "source": [
    "kino_copy = kino[:3].copy()"
   ]
  },
  {
   "cell_type": "code",
   "execution_count": null,
   "metadata": {},
   "outputs": [],
   "source": [
    "# добавляем новый столбец со случайно сгенерированными значениями\n",
    "kino_copy.loc[:,'imdb'] = pd.Series(np.random.randint(1, 10), index=kino_copy.index)\n",
    "kino_copy"
   ]
  },
  {
   "cell_type": "markdown",
   "metadata": {},
   "source": [
    "### Удаление столбцов"
   ]
  },
  {
   "cell_type": "markdown",
   "metadata": {},
   "source": [
    "Пример использования del для удаления столбца. "
   ]
  },
  {
   "cell_type": "code",
   "execution_count": null,
   "metadata": {},
   "outputs": [],
   "source": [
    "kino_copy = kino.copy()\n",
    "del kino_copy['director']\n",
    "kino_copy[:2]"
   ]
  },
  {
   "cell_type": "code",
   "execution_count": null,
   "metadata": {},
   "outputs": [],
   "source": [
    "# пример использования drop для удаления столбца из датафрейма\n",
    "kino_copy = kino.copy()\n",
    "# эта строка вернет новый датафрейм с удаленным столбцом 'director’\n",
    "# копия датафрейма не изменится\n",
    "afterdrop = kino_copy.drop(['director'], axis=1) \n",
    "afterdrop[:5]"
   ]
  },
  {
   "cell_type": "markdown",
   "metadata": {},
   "source": [
    "### Присоединение строк из других объектов DataFrame с помощью метода .append()"
   ]
  },
  {
   "cell_type": "code",
   "execution_count": null,
   "metadata": {},
   "outputs": [],
   "source": [
    "df1 = kino.iloc[0:3].copy() # копируем первые три строки датафрейма kino\n",
    "df1"
   ]
  },
  {
   "cell_type": "code",
   "execution_count": null,
   "metadata": {},
   "outputs": [],
   "source": [
    "df2 = kino.iloc[[10, 11, 2]] # копируем строки в позициях 10, 11 и 2\n",
    "df2"
   ]
  },
  {
   "cell_type": "code",
   "execution_count": null,
   "metadata": {},
   "outputs": [],
   "source": [
    "appended = df1.append(df2) # присоединяем к датафрейму df1 датафрейм df2\n",
    "# в результате к строкам первого датафрейма будут присоединены строки второго датафрейма\n",
    "appended"
   ]
  },
  {
   "cell_type": "markdown",
   "metadata": {},
   "source": [
    "### Конкатенация строк"
   ]
  },
  {
   "cell_type": "code",
   "execution_count": null,
   "metadata": {},
   "outputs": [],
   "source": [
    "# копируем первые три строки датафрейма kino\n",
    "df1 = kino.iloc[0:3].copy()\n",
    "# копируем строки в позициях 10, 11 и 2\n",
    "df2 = kino.iloc[[10, 11, 2]]\n",
    "# передаем их в виде списка\n",
    "pd.concat([df1, df2])"
   ]
  },
  {
   "cell_type": "markdown",
   "metadata": {},
   "source": [
    "### Удаление строк с помощью метода .drop()"
   ]
  },
  {
   "cell_type": "code",
   "execution_count": null,
   "metadata": {},
   "outputs": [],
   "source": [
    "kino_copy = kino[:5]\n",
    "kino_copy"
   ]
  },
  {
   "cell_type": "code",
   "execution_count": null,
   "metadata": {},
   "outputs": [],
   "source": [
    "afterdrop = kino_copy.drop(['Моя мама Снегурочка', 'Набережная Орфевр'])\n",
    "afterdrop[:5]"
   ]
  },
  {
   "cell_type": "markdown",
   "metadata": {},
   "source": [
    "### Удаление строк с помощью логического отбора"
   ]
  },
  {
   "cell_type": "code",
   "execution_count": null,
   "metadata": {},
   "outputs": [],
   "source": [
    "kino.ranking = kino.ranking.str.replace(',','.')\n",
    "kino.ranking = kino.ranking.astype(float)"
   ]
  },
  {
   "cell_type": "code",
   "execution_count": null,
   "metadata": {},
   "outputs": [],
   "source": [
    "# определяем строки, в которых ranking > 6\n",
    "selection = kino.ranking > 6\n",
    "# выводим информацию о количестве строк и количестве строк, которые будут удалены\n",
    "(len(selection), selection.sum())"
   ]
  },
  {
   "cell_type": "code",
   "execution_count": null,
   "metadata": {},
   "outputs": [],
   "source": [
    "# для отбора применим побитовое отрицание к выражению selection\n",
    "not_selection = kino[~selection]\n",
    "not_selection"
   ]
  },
  {
   "cell_type": "markdown",
   "metadata": {},
   "source": [
    "### Удаление строк с помощью среза"
   ]
  },
  {
   "cell_type": "code",
   "execution_count": null,
   "metadata": {
    "scrolled": true
   },
   "outputs": [],
   "source": [
    "# отбираем лишь первые три строки\n",
    "only_first_three = kino[:3]\n",
    "only_first_three"
   ]
  },
  {
   "cell_type": "code",
   "execution_count": null,
   "metadata": {},
   "outputs": [],
   "source": [
    "only_first_three = kino[:3].copy()\n",
    "only_first_three"
   ]
  },
  {
   "cell_type": "code",
   "execution_count": null,
   "metadata": {},
   "outputs": [],
   "source": []
  }
 ],
 "metadata": {
  "anaconda-cloud": {},
  "kernelspec": {
   "display_name": "Python 3",
   "language": "python",
   "name": "python3"
  },
  "language_info": {
   "codemirror_mode": {
    "name": "ipython",
    "version": 3
   },
   "file_extension": ".py",
   "mimetype": "text/x-python",
   "name": "python",
   "nbconvert_exporter": "python",
   "pygments_lexer": "ipython3",
   "version": "3.7.3"
  }
 },
 "nbformat": 4,
 "nbformat_minor": 4
}
