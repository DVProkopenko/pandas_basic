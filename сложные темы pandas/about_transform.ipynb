{
 "cells": [
  {
   "cell_type": "markdown",
   "metadata": {},
   "source": [
    "[Оригинал](https://pbpython.com/pandas_transform.html)"
   ]
  },
  {
   "cell_type": "markdown",
   "metadata": {},
   "source": [
    "Рассмотрим пример данных из 12 сделок купли-продажи:"
   ]
  },
  {
   "cell_type": "code",
   "execution_count": null,
   "metadata": {},
   "outputs": [],
   "source": [
    "import pandas as pd\n",
    "\n",
    "df = pd.read_excel(\"data/sales_transactions.xlsx\")\n",
    "df.head()"
   ]
  },
  {
   "cell_type": "code",
   "execution_count": null,
   "metadata": {},
   "outputs": [],
   "source": [
    "df.order.unique()"
   ]
  },
  {
   "cell_type": "markdown",
   "metadata": {},
   "source": [
    "Из данных видно, что файл содержит `3` разных заказа (`10001`, `10005` и `10006`) и что каждый заказ состоит из нескольких продуктов (иначе говоря, `sku`).\n",
    "\n",
    "Вопрос, на который мы хотели бы ответить: «Какой процент от общей суммы заказа представляет каждый `sku`?»\n",
    "\n",
    "Например, если мы посмотрим на заказ `10001` на общую сумму `576,12` доллара, разбивка будет выглядеть так:"
   ]
  },
  {
   "cell_type": "raw",
   "metadata": {},
   "source": [
    "B1-20000 = 235,83 долл. США или 40,9%\n",
    "S1-27722 = 232,32 долл. США или 40,3%\n",
    "B1-86481 = 107,97 долл. США или 18,7%"
   ]
  },
  {
   "cell_type": "markdown",
   "metadata": {},
   "source": [
    "Сложность в этом расчете заключается в том, что нам нужно получить итоговую сумму для каждого заказа и объединить ее с деталями уровня транзакции, чтобы получить проценты. В `Excel` вы можете попытаться использовать некоторую версию промежуточного итога, чтобы попытаться вычислить значения."
   ]
  },
  {
   "cell_type": "markdown",
   "metadata": {},
   "source": [
    "### Первый подход - слияние"
   ]
  },
  {
   "cell_type": "markdown",
   "metadata": {},
   "source": [
    "Если вы знакомы с `pandas`, вашим первым желанием будет попытаться сгруппировать данные в новый фрейм и объединить их в многошаговый процесс.\n",
    "\n",
    "Теперь, когда данные находятся в датафрейме, можно определить итоговую сумму по `order` с помощью стандартного агрегирования `groupby`."
   ]
  },
  {
   "cell_type": "code",
   "execution_count": null,
   "metadata": {},
   "outputs": [],
   "source": [
    "df.groupby('order')[\"ext price\"].sum()"
   ]
  },
  {
   "cell_type": "markdown",
   "metadata": {},
   "source": [
    "Вот простое изображение, показывающее, что происходит:\n",
    "\n",
    "<img src=\"https://pbpython.com/images/groupby-example.png\">"
   ]
  },
  {
   "cell_type": "markdown",
   "metadata": {},
   "source": [
    "Более сложная задача - выяснить, как объединить эти данные с исходным фреймом. Первая мысль - создать новый фрейм с итогами по `order` и объединить его с оригиналом. Мы могли бы сделать что-то вроде такого:"
   ]
  },
  {
   "cell_type": "code",
   "execution_count": null,
   "metadata": {},
   "outputs": [],
   "source": [
    "order_total = df.groupby('order')[\"ext price\"].sum().rename(\"Order_Total\").reset_index()\n",
    "df_1 = df.merge(order_total)\n",
    "df_1[\"Percent_of_Order\"] = round(df_1[\"ext price\"] / df_1[\"Order_Total\"] * 100)\n",
    "df_1"
   ]
  },
  {
   "cell_type": "markdown",
   "metadata": {},
   "source": [
    "### Второй подход - использование преобразования"
   ]
  },
  {
   "cell_type": "markdown",
   "metadata": {},
   "source": [
    "Используя исходные данные, давайте попробуем использовать `transform` и `groupby`:"
   ]
  },
  {
   "cell_type": "code",
   "execution_count": null,
   "metadata": {},
   "outputs": [],
   "source": [
    "df.groupby('order')[\"ext price\"].transform('sum')"
   ]
  },
  {
   "cell_type": "markdown",
   "metadata": {},
   "source": [
    "Вы заметите, что возвращается набор данных другого размера из наших обычных `groupby` функций. Вместо того, чтобы показывать только итоги для 3 заказов, мы сохраняем то же количество элементов, что и исходный набор данных. Это уникальная особенность использования `transform`.\n",
    "\n",
    "Последний шаг довольно прост:"
   ]
  },
  {
   "cell_type": "code",
   "execution_count": null,
   "metadata": {},
   "outputs": [],
   "source": [
    "df[\"Order_Total\"] = df.groupby('order')[\"ext price\"].transform('sum')\n",
    "df[\"Percent_of_Order\"] = round(df[\"ext price\"] / df[\"Order_Total\"] * 100)\n",
    "df"
   ]
  },
  {
   "cell_type": "markdown",
   "metadata": {},
   "source": [
    "В качестве дополнительного бонуса вы можете записать одно выражение, если не хотите показывать отдельные суммы заказа:"
   ]
  },
  {
   "cell_type": "code",
   "execution_count": null,
   "metadata": {},
   "outputs": [],
   "source": [
    "df[\"Percent_of_Order\"] = round(df[\"ext price\"] / \n",
    "                               df.groupby('order')[\"ext price\"].transform('sum') * 100)\n",
    "df"
   ]
  },
  {
   "cell_type": "markdown",
   "metadata": {},
   "source": [
    "Вот диаграмма, чтобы показать, что происходит:\n",
    "\n",
    "<img src=\"https://pbpython.com/images/transform-example.png\">"
   ]
  },
  {
   "cell_type": "code",
   "execution_count": null,
   "metadata": {},
   "outputs": [],
   "source": []
  }
 ],
 "metadata": {
  "kernelspec": {
   "display_name": "Python 3",
   "language": "python",
   "name": "python3"
  },
  "language_info": {
   "codemirror_mode": {
    "name": "ipython",
    "version": 3
   },
   "file_extension": ".py",
   "mimetype": "text/x-python",
   "name": "python",
   "nbconvert_exporter": "python",
   "pygments_lexer": "ipython3",
   "version": "3.7.3"
  }
 },
 "nbformat": 4,
 "nbformat_minor": 4
}
