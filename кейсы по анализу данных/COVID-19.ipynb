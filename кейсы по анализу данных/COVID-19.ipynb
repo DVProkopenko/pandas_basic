{
 "cells": [
  {
   "cell_type": "markdown",
   "metadata": {},
   "source": [
    "### Где найти базы данных о коронавирусе COVID-19?\n",
    "\n",
    "Учёными и исследователями собираются многочисленные базы данных о коронавирусе, его генетической структуре, ходе распространения и научных исследованиях о нём. Значительные объёмы этих данных общедоступны.\n",
    "\n",
    "Подробности по [ссылке](https://covid19faq.ru/l/ru/article/f3sw02fiup-data)\n",
    "\n",
    "### Почему так сложно сделать хорошую математическую модель COVID-19?\n",
    "\n",
    "В это сложное время пандемии нам всем нужны ответы. Тысячи ученых, исследовательских центров и активистов по всему миру собирают данные и проводят исследования по теме «коронавирус» (COVID-19). Кажется, что уже должны существовать точные ответы. Эти ответы основаны на данных, но проблема в том, что данные повсюду и часто один источник противоречит другому.\n",
    "\n",
    "Подробности по [ссылке](https://covid19faq.ru/l/ru/article/dwmsq2i0ef-good-mathematical-model-covid-19)\n",
    "\n",
    "**Почему так сложно построить хороший прогноз по COVID-19? Как понять, сколько продлится карантин?** [Подробнее](https://vc.ru/flood/117032-pochemu-tak-slozhno-postroit-horoshiy-prognoz-po-covid-19-kak-ponyat-skolko-prodlitsya-karantin)\n",
    "\n",
    "### Где ведутся и публикуются исследования COVID-19?\n",
    "\n",
    "Исследования о COVID-19 ведутся в сотнях научных и исследовательских учреждений по всему миру. Здесь собраны ссылки на общедоступные исследования, базы научных публикаций и сообществ учёных.\n",
    "\n",
    "Подробности по [ссылке](https://covid19faq.ru/l/ru/article/5pqxj6az02-research)"
   ]
  },
  {
   "cell_type": "code",
   "execution_count": null,
   "metadata": {},
   "outputs": [],
   "source": [
    "import pandas as pd\n",
    "\n",
    "#Источник данных: https://github.com/datasets/covid-19\n",
    "\n",
    "url = \"https://raw.githubusercontent.com/datasets/covid-19/master/data/time-series-19-covid-combined.csv\"\n",
    "df = pd.read_csv(url, \n",
    "                 parse_dates=['Date'], \n",
    "                 index_col='Date', \n",
    "                 usecols=['Date','Country/Region', 'Confirmed', 'Recovered', 'Deaths'])\n",
    "df"
   ]
  },
  {
   "cell_type": "code",
   "execution_count": null,
   "metadata": {},
   "outputs": [],
   "source": [
    "df['Country/Region'].unique()"
   ]
  },
  {
   "cell_type": "code",
   "execution_count": null,
   "metadata": {},
   "outputs": [],
   "source": [
    "rus = df[df['Country/Region']=='Russia']\n",
    "rus"
   ]
  },
  {
   "cell_type": "code",
   "execution_count": null,
   "metadata": {},
   "outputs": [],
   "source": [
    "rus"
   ]
  },
  {
   "cell_type": "code",
   "execution_count": null,
   "metadata": {},
   "outputs": [],
   "source": [
    "rus.plot()"
   ]
  },
  {
   "cell_type": "code",
   "execution_count": null,
   "metadata": {},
   "outputs": [],
   "source": [
    "it = df[df['Country/Region']=='Italy']\n",
    "it"
   ]
  },
  {
   "cell_type": "code",
   "execution_count": null,
   "metadata": {},
   "outputs": [],
   "source": [
    "it.plot()"
   ]
  },
  {
   "cell_type": "code",
   "execution_count": null,
   "metadata": {},
   "outputs": [],
   "source": [
    "it[it.Deaths>=1]"
   ]
  },
  {
   "cell_type": "markdown",
   "metadata": {},
   "source": [
    "[Когда пандемия пойдёт на спад? Оцениваем на Python с помощью Pandas](https://habr.com/ru/post/495752/)"
   ]
  },
  {
   "cell_type": "code",
   "execution_count": null,
   "metadata": {},
   "outputs": [],
   "source": []
  }
 ],
 "metadata": {
  "kernelspec": {
   "display_name": "Python 3",
   "language": "python",
   "name": "python3"
  },
  "language_info": {
   "codemirror_mode": {
    "name": "ipython",
    "version": 3
   },
   "file_extension": ".py",
   "mimetype": "text/x-python",
   "name": "python",
   "nbconvert_exporter": "python",
   "pygments_lexer": "ipython3",
   "version": "3.7.3"
  }
 },
 "nbformat": 4,
 "nbformat_minor": 4
}
