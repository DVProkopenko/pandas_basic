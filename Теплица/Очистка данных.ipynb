{
 "cells": [
  {
   "cell_type": "markdown",
   "metadata": {},
   "source": [
    "- Посмотреть датасет, проверить вкладки, объем датасета;\n",
    "- Переименовать файл, вкладку (латинскими буквами); \n",
    "- Очистите форматирование;\n",
    "- Очистите шапку, сделайте в одну строку; \n",
    "- Описания колонок сохраните в отдельную вкладку (латинские буквы); \n",
    "- Поправьте форматы переменных (числа, текст); \n",
    "- Заморозьте первую строку; \n",
    "- Проверьте датасет на дубликаты\n",
    "- Если есть, удалите дубликаты;\n",
    "- Разделите необходимые колонки; \n",
    "- Проверьте все 10 пунктов \n"
   ]
  },
  {
   "cell_type": "code",
   "execution_count": null,
   "metadata": {},
   "outputs": [],
   "source": []
  }
 ],
 "metadata": {
  "kernelspec": {
   "display_name": "Python 3",
   "language": "python",
   "name": "python3"
  },
  "language_info": {
   "codemirror_mode": {
    "name": "ipython",
    "version": 3
   },
   "file_extension": ".py",
   "mimetype": "text/x-python",
   "name": "python",
   "nbconvert_exporter": "python",
   "pygments_lexer": "ipython3",
   "version": "3.7.3"
  }
 },
 "nbformat": 4,
 "nbformat_minor": 4
}
