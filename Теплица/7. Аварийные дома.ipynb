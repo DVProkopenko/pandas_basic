{
 "cells": [
  {
   "cell_type": "markdown",
   "metadata": {},
   "source": [
    "- **address** Населенный пункт (наименование)\n",
    "- **houseguid** Адрес дома\n",
    "- **cadastral_number**\tГлобальный уникальный идентификатор дома\n",
    "- **stage**\tДата постановки на кадастровый учет\n",
    "- **built_year**\tСтадия жизненного цикла\n",
    "- **exploitation_start_year**\tГод постройки\n",
    "- **project_type**\tГод ввода в эксплуатацию\n",
    "- **house_type**\tСерия, тип постройки здания\n",
    "- **floor_count_max**\tТип дома\n",
    "- **floor_count_min**\tНаибольшее количество этажей, ед.\n",
    "- **entrance_count**\tНаименьшее количество этажей, ед.\n",
    "- **residents_count**\tКоличество подъездов, ед.\n",
    "- **area_total**\tКоличество проживающих, чел.\n",
    "- **area_residential**\tОбщая площадь дома, всего, кв. м\n",
    "- **area_non_residential**\tОбщая площадь жилых помещений, кв. м\n",
    "- **area_common_property**\tОбщая площадь помещений, входящих в состав общего имущества, кв.м\n",
    "- **area_land**\tПлощадь земельного участка, входящего в состав общего имущества в многоквартирном доме, кв.м\n",
    "- **monument_status**\tНаличие статуса памятника архитектуры\n",
    "- **monument_document_date**\tДата документа о признании дома памятником архитектуры\n",
    "- **monument_document_number**\tНомер документа о признании дома памятником архитектуры\n",
    "- **deterioration_total**\tОбщая степень износа здания\n",
    "- **determined_date**\tДата, на которую установлен износ здания\n",
    "- **floor_type**\tТип перекрытий\n",
    "- **wall_material**\tматериал стен\n",
    "- **alarm_reason**\tМатериал несущих стен\n",
    "- **alarm_reason_other**\tПричина признания дома аварийным\n",
    "- **alarm_document_number**\tПричина признания дома аварийным (другое)\n",
    "- **alarm_has_file**\tНомер решения органа местного самоуправления/органа исполнительной власти субъекта РФ о признании многоквартирного дома аварийным\n",
    "- **exp_name**\tФайл решения\n",
    "- **exp_document_number**\tНаименование специализированной организации, проводившей обследование многоквартирного дома\n",
    "- **exp_document_date**\tНомер экспертного заключения, проведенного специализированной организацией\n",
    "- **exp_has_file**\tДата экспертного заключения\n",
    "- **commission_document_number**\tФайл экспертного заключения\n",
    "- **commission_document_date**\tНомер заключения межведомственной комиссии\n",
    "- **commission_has_file**\tДата заключения\n",
    "- **further_use**\tФайл заключения\n",
    "- **decision_deadline_date**\tДальнейшее использование\n",
    "- **planned_resettlement_date**\tСрок для принятия собственниками помещений дома решения о сносе или реконструкции\n",
    "- **actual_resettlement_date**\tПланируемая дата завершения расселения\n",
    "- **planned_rooms_count**\tФактическая дата завершения расселения\n",
    "- **planned_rooms_square**\tКоличество помещений, подлежащих расселению, ед.\n",
    "- **planned_ppl_count**\tПлощадь помещений, подлежащих расселению, кв.м\n",
    "- **planned_demolition_date**\tКоличество граждан, подлежащих расселению, чел.\n",
    "- **resettled_rooms_count**\tПланируемая дата сноса\n",
    "- **resettled_rooms_square**\tКоличество расселенных помещений, ед.\n",
    "- **resettled_ppl_count**\tПлощадь расселенных помещений, кв.м\n",
    "- **empty_rooms_count**\tКоличество постоянно проживающих членов семьи в расселенных помещениях, чел.\n",
    "- **empty_rooms_square**\tКоличество пустующих помещений, ед.\n",
    "- **redemption_amount**\tПлощадь пустующих помещений, кв.м\n",
    "- **planned_providing_area_square**\tОбщая сумма необходимого финансирования, тыс.руб.\n",
    "- **alarm_document_date**\tПлощадь помещений, планируемая для предоставления, кв.м\n",
    "- **year_alarm_document**\tДата решения"
   ]
  },
  {
   "cell_type": "code",
   "execution_count": null,
   "metadata": {},
   "outputs": [],
   "source": [
    "import pandas as pd\n",
    "\n",
    "url = \"https://raw.githubusercontent.com/dm-fedorov/pandas_basic/master/data/houses.csv\"\n",
    "pd.read_csv(url)"
   ]
  },
  {
   "cell_type": "markdown",
   "metadata": {},
   "source": [
    "### Определите\n",
    "\n",
    "- Сколько домов признано аварийными по регионам?\n",
    "- Сколько домов с 2010 года признано аварийными по городам?\n",
    "- Какая доля домов признано аварийными из-за пожара?\n",
    "- Сколько домов признавалось аварийными по годам?"
   ]
  },
  {
   "cell_type": "code",
   "execution_count": null,
   "metadata": {},
   "outputs": [],
   "source": []
  }
 ],
 "metadata": {
  "kernelspec": {
   "display_name": "Python 3",
   "language": "python",
   "name": "python3"
  },
  "language_info": {
   "codemirror_mode": {
    "name": "ipython",
    "version": 3
   },
   "file_extension": ".py",
   "mimetype": "text/x-python",
   "name": "python",
   "nbconvert_exporter": "python",
   "pygments_lexer": "ipython3",
   "version": "3.7.3"
  }
 },
 "nbformat": 4,
 "nbformat_minor": 4
}
