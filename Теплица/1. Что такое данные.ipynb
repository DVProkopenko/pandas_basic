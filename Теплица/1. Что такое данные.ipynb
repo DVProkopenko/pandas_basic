{
 "cells": [
  {
   "cell_type": "markdown",
   "metadata": {},
   "source": [
    "Вебинар про данные в журналистике: https://youtu.be/YCxTK3z7kAs\n",
    "\n",
    "1) Данных много (мобильные, самолеты, носимая техника).\n",
    "\n",
    "2) Доступ к устройствам для обработки данных.\n",
    "\n",
    "Будем работать с данными в табличном виде.\n",
    "\n",
    "<img src=\"https://raw.githubusercontent.com/dm-fedorov/gsom/master/state_of_the_stack_2015.png\" height=\"200px\" width=\"300px\" >"
   ]
  },
  {
   "cell_type": "code",
   "execution_count": null,
   "metadata": {},
   "outputs": [],
   "source": []
  }
 ],
 "metadata": {
  "kernelspec": {
   "display_name": "Python 3",
   "language": "python",
   "name": "python3"
  },
  "language_info": {
   "codemirror_mode": {
    "name": "ipython",
    "version": 3
   },
   "file_extension": ".py",
   "mimetype": "text/x-python",
   "name": "python",
   "nbconvert_exporter": "python",
   "pygments_lexer": "ipython3",
   "version": "3.7.3"
  }
 },
 "nbformat": 4,
 "nbformat_minor": 4
}
