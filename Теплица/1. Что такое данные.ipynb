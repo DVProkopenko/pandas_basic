{
 "cells": [
  {
   "cell_type": "markdown",
   "metadata": {},
   "source": [
    "Вебинар про данные в журналистике: https://youtu.be/YCxTK3z7kAs\n",
    "\n",
    "1) Данных много (мобильные, самолеты, носимая техника).\n",
    "\n",
    "2) Доступ к устройствам для обработки данных.\n",
    "\n",
    "Будем работать с данными в табличном виде.\n",
    "\n",
    "<img src=\"https://raw.githubusercontent.com/dm-fedorov/pandas_basic/master/%D0%A2%D0%B5%D0%BF%D0%BB%D0%B8%D1%86%D0%B0/pic/data.jpg\" height=\"400px\" width=\"500px\" >\n",
    "\n",
    "### Типы величин\n",
    "- категориальные (номинальные): Москва, Петербург\n",
    "- - бинарные: да, нет; правда, ложь\n",
    "- количественные (дискретные): число учеников в классе, число парковок в городе\n",
    "- количественные (непрерывные): число километров (не целые)\n",
    "- ранговые: слабый, средний, крепкий чай; низкий, средний, высокий\n",
    "\n",
    "### Определите тип переменной\n",
    "\n",
    "- группа крови\n",
    "- рост в мм\n",
    "- успеваемость студентов\n",
    "- количество публикаций ученого\n",
    "\n",
    "### Форматы данных\n",
    "\n",
    "<img src=\"https://raw.githubusercontent.com/dm-fedorov/pandas_basic/master/%D0%A2%D0%B5%D0%BF%D0%BB%D0%B8%D1%86%D0%B0/pic/format.jpg\" height=\"400px\" width=\"500px\" >"
   ]
  },
  {
   "cell_type": "code",
   "execution_count": null,
   "metadata": {},
   "outputs": [],
   "source": []
  },
  {
   "cell_type": "code",
   "execution_count": null,
   "metadata": {},
   "outputs": [],
   "source": []
  }
 ],
 "metadata": {
  "kernelspec": {
   "display_name": "Python 3",
   "language": "python",
   "name": "python3"
  },
  "language_info": {
   "codemirror_mode": {
    "name": "ipython",
    "version": 3
   },
   "file_extension": ".py",
   "mimetype": "text/x-python",
   "name": "python",
   "nbconvert_exporter": "python",
   "pygments_lexer": "ipython3",
   "version": "3.7.3"
  }
 },
 "nbformat": 4,
 "nbformat_minor": 4
}
