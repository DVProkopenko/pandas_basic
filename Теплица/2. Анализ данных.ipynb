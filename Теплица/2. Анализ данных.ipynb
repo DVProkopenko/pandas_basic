{
 "cells": [
  {
   "cell_type": "markdown",
   "metadata": {},
   "source": [
    "«Data-вебинары с Андреем Дорожным: данные для начинающих»\n",
    "\n",
    "Вебинар 3: https://www.youtube.com/watch?v=ppE6LKvuk7Q"
   ]
  },
  {
   "cell_type": "markdown",
   "metadata": {},
   "source": [
    "### Очистка данных"
   ]
  },
  {
   "cell_type": "markdown",
   "metadata": {},
   "source": [
    "Мусор на входе - мусор на выходе."
   ]
  },
  {
   "cell_type": "markdown",
   "metadata": {},
   "source": [
    "- объединенные ячейки\n",
    "- разный регистр для строк\n",
    "- разные типы переменных в пределах одного столбца (разные форматы дат)\n",
    "- пропущенные значения"
   ]
  },
  {
   "cell_type": "markdown",
   "metadata": {},
   "source": [
    "<img src=\"https://raw.githubusercontent.com/dm-fedorov/pandas_basic/master/%D0%A2%D0%B5%D0%BF%D0%BB%D0%B8%D1%86%D0%B0/pic/table.jpg\" height=\"300px\" width=\"500px\" >"
   ]
  },
  {
   "cell_type": "markdown",
   "metadata": {},
   "source": [
    "**Создание сводных таблиц**\n",
    "\n",
    "<img src=\"https://raw.githubusercontent.com/dm-fedorov/pandas_basic/master/%D0%A2%D0%B5%D0%BF%D0%BB%D0%B8%D1%86%D0%B0/pic/table_all.jpg\" height=\"400px\" width=\"500px\" >\n"
   ]
  },
  {
   "cell_type": "markdown",
   "metadata": {},
   "source": [
    "**Чек-лист очистки данных**\n",
    "\n",
    "- Посмотреть датасет, проверить вкладки, объем датасета;\n",
    "- Переименовать файл, вкладку (латинскими буквами); \n",
    "- Очистите форматирование;\n",
    "- Очистите шапку, сделайте в одну строку; \n",
    "- Описания колонок сохраните в отдельную вкладку (латинские буквы); \n",
    "- Поправьте форматы переменных (числа, текст); \n",
    "- Заморозьте первую строку; \n",
    "- Проверьте датасет на дубликаты\n",
    "- Если есть, удалите дубликаты;\n",
    "- Разделите необходимые колонки; \n",
    "- Проверьте все 10 пунктов "
   ]
  },
  {
   "cell_type": "markdown",
   "metadata": {},
   "source": [
    "Источник: Кинопоиск 23.12.2018\n",
    "Данные собрал: Андрей Дорожный\n",
    "\n",
    "- **name** Название фильма\n",
    "- **country** Страна производства\n",
    "- **time** Продолжительность фильма, мин\n",
    "- **ranking** Балл на Кинопоиске\n",
    "- **type** Жанр\n",
    "- **year** Год выпуска\n",
    "- **director** Режиссер"
   ]
  },
  {
   "cell_type": "markdown",
   "metadata": {},
   "source": [
    "https://raw.githubusercontent.com/dm-fedorov/pandas_basic/master/data/new_year_film.csv"
   ]
  },
  {
   "cell_type": "code",
   "execution_count": null,
   "metadata": {},
   "outputs": [],
   "source": []
  },
  {
   "cell_type": "markdown",
   "metadata": {},
   "source": [
    "Вебинар 4: https://youtu.be/qZbpdDDPUlo\n",
    "\n",
    "Вебинар 5: https://youtu.be/LzLiArJN5Ws"
   ]
  },
  {
   "cell_type": "code",
   "execution_count": null,
   "metadata": {},
   "outputs": [],
   "source": []
  },
  {
   "cell_type": "code",
   "execution_count": null,
   "metadata": {},
   "outputs": [],
   "source": [
    "https://raw.githubusercontent.com/dm-fedorov/pandas_basic/master/data/deputat.csv"
   ]
  },
  {
   "cell_type": "markdown",
   "metadata": {},
   "source": [
    "**Задание про депутатов**\n",
    "\n",
    "- Определите среднйи возраст депутата?\n",
    "- Определите гендерное процентное соотношение\n"
   ]
  },
  {
   "cell_type": "markdown",
   "metadata": {},
   "source": [
    "- КОПУК\n",
    "- Название\n",
    "- Адрес\n",
    "- Число дней работы парка (Единица)\n",
    "- Общая площадь парка (Гектар)\n",
    "- Число досуговых объектов: всего (Единица)\n",
    "- Число досуговых объектов: требуют капитального ремонта  (Единица)\n",
    "- Число досуговых объектов: работающие круглогодично (Единица)\n",
    "- Количество спортивных объектов (залов, площадок): в летний сезон (Единица)\n",
    "- Количество спортивных объектов (залов, площадок): в зимний сезон (Единица)\n",
    "- Прокат спортивного инвентаря: в летний сезон (Единица)\n",
    "- Прокат спортивного инвентаря: в зимний сезон (Единица)\n",
    "- Число концертных площадок, павильонов (Единица)\n",
    "- Количество игровых объектов на детских площадках: в летний сезон (Единица)\n",
    "- Количество игровых объектов на детских площадках: в зимний сезон (Единица)\n",
    "- Количество посадочных мест в кафе и ресторанах: в летний сезон (Единица)\n",
    "- Количество посадочных мест в кафе и ресторанах: в зимний сезон (Единица)\n",
    "- Количество туалетов: в летний сезон (Единица)\n",
    "- Количество туалетов: в зимний сезон (Единица)\n",
    "- Наличие доступа в Интернет (Единица)\n",
    "- Число культурно-массовых и физкультурно-оздоровительных мероприятий: всего (Единица)\n",
    "- Численность работников: всего (Человек)\n",
    "- Численность работников: штатных (Человек)\n",
    "\n",
    "https://raw.githubusercontent.com/dm-fedorov/pandas_basic/master/data/park.csv"
   ]
  },
  {
   "cell_type": "code",
   "execution_count": null,
   "metadata": {},
   "outputs": [],
   "source": []
  },
  {
   "cell_type": "markdown",
   "metadata": {},
   "source": [
    "https://raw.githubusercontent.com/dm-fedorov/pandas_basic/master/data/uni_group.csv\n",
    "    \n",
    "https://raw.githubusercontent.com/dm-fedorov/pandas_basic/master/data/uni_group_plus.csv"
   ]
  },
  {
   "cell_type": "code",
   "execution_count": null,
   "metadata": {},
   "outputs": [],
   "source": []
  },
  {
   "cell_type": "code",
   "execution_count": null,
   "metadata": {},
   "outputs": [],
   "source": []
  },
  {
   "cell_type": "markdown",
   "metadata": {},
   "source": [
    "- Сколько домов признано аварийными по регионам?\n",
    "- Сколько домов с 2010 года признано аварийными по городам?\n",
    "- Какая доля домов признано аварийными из-за пожара?\n",
    "- Сколько домов признавалось аварийными по годам?"
   ]
  },
  {
   "cell_type": "code",
   "execution_count": null,
   "metadata": {},
   "outputs": [],
   "source": []
  }
 ],
 "metadata": {
  "kernelspec": {
   "display_name": "Python 3",
   "language": "python",
   "name": "python3"
  },
  "language_info": {
   "codemirror_mode": {
    "name": "ipython",
    "version": 3
   },
   "file_extension": ".py",
   "mimetype": "text/x-python",
   "name": "python",
   "nbconvert_exporter": "python",
   "pygments_lexer": "ipython3",
   "version": "3.7.3"
  }
 },
 "nbformat": 4,
 "nbformat_minor": 4
}
